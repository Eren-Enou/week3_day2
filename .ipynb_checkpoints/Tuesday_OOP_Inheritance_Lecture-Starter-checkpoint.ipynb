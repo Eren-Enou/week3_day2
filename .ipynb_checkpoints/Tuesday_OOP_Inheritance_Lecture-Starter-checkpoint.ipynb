{
 "cells": [
  {
   "cell_type": "markdown",
   "metadata": {},
   "source": [
    "# Object-Oriented-Programming (OOP)"
   ]
  },
  {
   "cell_type": "markdown",
   "metadata": {},
   "source": [
    "## Tasks Today:\n",
    "\n",
    "   \n",
    "1) <b>Dunder Methods</b> <br>\n",
    " &nbsp;&nbsp;&nbsp;&nbsp; a) The \\__str\\__() Method <br>\n",
    " &nbsp;&nbsp;&nbsp;&nbsp; b) The \\__repr\\__() Method <br>\n",
    " &nbsp;&nbsp;&nbsp;&nbsp; c) Other Magic Methods <br>\n",
    " &nbsp;&nbsp;&nbsp;&nbsp; d) In-Class Exercise #1 - Create a class Animal that displays the species and animal name when printed <br>  \n",
    "2) <b>Inheritance</b> <br>\n",
    " &nbsp;&nbsp;&nbsp;&nbsp; a) Syntax for Inheriting from a Parent Class <br>\n",
    " &nbsp;&nbsp;&nbsp;&nbsp; b) The \\__init\\__() Method for a Child Class (super()) <br>\n",
    " &nbsp;&nbsp;&nbsp;&nbsp; c) Defining Attributes and Methods for the Child Class <br>\n",
    " &nbsp;&nbsp;&nbsp;&nbsp; d) Method Overriding <br>\n",
    " &nbsp;&nbsp;&nbsp;&nbsp; e) In-Class Exercise #2 - Create a class 'Ford' that inherits from 'Car' class and initialize it as a Blue Ford Explorer with 4 wheels using the super() method <br>\n",
    "3) <b>Modules</b> <br>\n",
    " &nbsp;&nbsp;&nbsp;&nbsp; a) Importing Modules<br>\n",
    " &nbsp;&nbsp;&nbsp;&nbsp; b) Importing from modules <br>\n",
    " &nbsp;&nbsp;&nbsp;&nbsp; c) Aliasing <br>\n",
    " &nbsp;&nbsp;&nbsp;&nbsp; d) Creating Modules <br>\n"
   ]
  },
  {
   "cell_type": "markdown",
   "metadata": {},
   "source": [
    "### Warm Up"
   ]
  },
  {
   "cell_type": "markdown",
   "metadata": {},
   "source": [
    "Create a class for a Book that has instance attributes for `title`, `author`, `num_of_pages`, and `price`. Each book instance should also have a `current_page` attribute that starts at 0. Add a method called `read` that takes in number of pages. The method should update the what the current page is. If the `current_page` goes over the `num_of_pages`, print that the book is finished and reset the `current_page` to 0"
   ]
  },
  {
   "cell_type": "code",
   "execution_count": 13,
   "metadata": {},
   "outputs": [],
   "source": [
    "class Book:\n",
    "    current_page = 0\n",
    "    def __init__(self, title, author, num_of_pages, price):\n",
    "        self.title = title\n",
    "        self.author = author\n",
    "        self.num_of_pages = num_of_pages\n",
    "        self.price = price\n",
    "        print(f\"Congratulations on purchasing {self.title} by {self.author} for ${self.price:.2f}.\")\n",
    "    \n",
    "    def read(self, num_of_pages):\n",
    "        self.current_page += num_of_pages\n",
    "        if self.current_page >= self.num_of_pages:\n",
    "            print(f\"You have finished reading {self.title} by {self.author}\")\n",
    "            self.current_page = 0\n",
    "        else:\n",
    "            print(f\"You are currently on page {self.current_page}. There are {self.num_of_pages - self.current_page} pages left.\")"
   ]
  },
  {
   "cell_type": "code",
   "execution_count": 14,
   "metadata": {},
   "outputs": [
    {
     "name": "stdout",
     "output_type": "stream",
     "text": [
      "Congratulations on purchasing The Midnight Library by Matt Haig for $26.00.\n",
      "You are currently on page 45. There are 243 pages left.\n",
      "You are currently on page 104. There are 184 pages left.\n",
      "You are currently on page 146. There are 142 pages left.\n",
      "You are currently on page 230. There are 58 pages left.\n",
      "You have finished reading The Midnight Library by Matt Haig\n"
     ]
    }
   ],
   "source": [
    "book = Book(\"The Midnight Library\", \"Matt Haig\", 288, 26.00)\n",
    "book.read(45)\n",
    "book.read(59)\n",
    "book.read(42)\n",
    "book.read(84)\n",
    "book.read(62)"
   ]
  },
  {
   "cell_type": "markdown",
   "metadata": {},
   "source": [
    "## Dunder Methods"
   ]
  },
  {
   "cell_type": "markdown",
   "metadata": {},
   "source": [
    "#### \\__str\\__()"
   ]
  },
  {
   "cell_type": "code",
   "execution_count": 16,
   "metadata": {},
   "outputs": [
    {
     "name": "stdout",
     "output_type": "stream",
     "text": [
      "green Toyota Corolla\n",
      "red Ford Mustang\n"
     ]
    }
   ],
   "source": [
    "class Car:\n",
    "    def __init__(self, color, make, model):\n",
    "        self.color = color\n",
    "        self.make = make\n",
    "        self.model = model\n",
    "        \n",
    "    def __str__(self):\n",
    "        return f\"{self.color} {self.make} {self.model}\"\n",
    "        \n",
    "    def __repr__(self):\n",
    "        return 'Hello World'\n",
    "\n",
    "car1 = Car('green','Toyota','Corolla')\n",
    "car2 = Car('red','Ford','Mustang')\n",
    "\n",
    "print(car1)\n",
    "print(car2)"
   ]
  },
  {
   "cell_type": "markdown",
   "metadata": {},
   "source": [
    "#### \\__repr\\__()"
   ]
  },
  {
   "cell_type": "code",
   "execution_count": null,
   "metadata": {
    "scrolled": true
   },
   "outputs": [],
   "source": [
    "# If the __repr__() is defined, but the __str__() is not, then the __str__ == __repr__\n",
    "\n",
    "\n",
    "class Car:\n",
    "    def __init__(self, color, make, model):\n",
    "        self.color = color\n",
    "        self.make = make\n",
    "        self.model = model\n",
    "        \n",
    "    def __str__(self):\n",
    "        return f\"{self.color} {self.make} {self.model}\"\n",
    "        \n",
    "    def __repr__(self):\n",
    "        return 'Hello World'\n",
    "\n",
    "car1 = Car('green','Toyota','Corolla')\n",
    "car2 = Car('red','Ford','Mustang')\n",
    "\n",
    "print(car1)\n",
    "print(car2)"
   ]
  },
  {
   "cell_type": "code",
   "execution_count": 17,
   "metadata": {},
   "outputs": [
    {
     "data": {
      "text/plain": [
       "Hello World"
      ]
     },
     "execution_count": 17,
     "metadata": {},
     "output_type": "execute_result"
    }
   ],
   "source": [
    "car1"
   ]
  },
  {
   "cell_type": "code",
   "execution_count": 18,
   "metadata": {},
   "outputs": [
    {
     "data": {
      "text/plain": [
       "Hello World"
      ]
     },
     "execution_count": 18,
     "metadata": {},
     "output_type": "execute_result"
    }
   ],
   "source": [
    "car2"
   ]
  },
  {
   "cell_type": "markdown",
   "metadata": {},
   "source": [
    "#### \\__lt\\__(), \\__lte\\__(), \\__eq\\__(), etc"
   ]
  },
  {
   "cell_type": "code",
   "execution_count": 26,
   "metadata": {},
   "outputs": [
    {
     "name": "stdout",
     "output_type": "stream",
     "text": [
      "Pen: $1.50 x 3\n",
      "Book: $26.00 x 1\n"
     ]
    }
   ],
   "source": [
    "class Product:\n",
    "    def __init__(self, name, price, quantity):\n",
    "        self.name = name\n",
    "        self.price = price\n",
    "        self.quantity = quantity\n",
    "    def __str__(self):\n",
    "        return f\"{self.name}: ${self.price:.2f} x {self.quantity}\"\n",
    "    \n",
    "    def __repr__(self):\n",
    "        return f\"<Product|{self.name}>\"\n",
    "    \n",
    "    def __it__(self, other_prod):\n",
    "        own_total = self.price * self.quantity\n",
    "        other_total = other_prod.price * other_prod.quantity\n",
    "        return own_total < other_total\n",
    "\n",
    "    def __eq__(self, other_prod):\n",
    "        own_total = self.price * self.quantity\n",
    "        other_total = other_prod.price * other_prod.quantity\n",
    "        return own_total == other_total\n",
    "    \n",
    "    def __le__(self, other_prod):\n",
    "        own_total = self.price * self.quantity\n",
    "        other_total = other_prod.price * other_prod.quantity\n",
    "        return own_total <= other_total\n",
    "    \n",
    "    def __add__(self, other_prod):\n",
    "        own_total = self.price * self.quantity\n",
    "        other_total = other_prod.price * other_prod.quantity\n",
    "        return own_total + other_total\n",
    "    \n",
    "prod1 = Product('Pen', 1.50, 3)\n",
    "print(prod1)\n",
    "prod1\n",
    "prod2 = Product('Book', 26, 1)\n",
    "print(prod2)\n",
    "prod2\n",
    "prod3 = Product('Water Bottle', 13, 2)"
   ]
  },
  {
   "cell_type": "code",
   "execution_count": 32,
   "metadata": {},
   "outputs": [
    {
     "data": {
      "text/plain": [
       "30.5"
      ]
     },
     "execution_count": 32,
     "metadata": {},
     "output_type": "execute_result"
    }
   ],
   "source": [
    "prod1 + prod2"
   ]
  },
  {
   "cell_type": "code",
   "execution_count": null,
   "metadata": {},
   "outputs": [],
   "source": []
  },
  {
   "cell_type": "code",
   "execution_count": null,
   "metadata": {},
   "outputs": [],
   "source": []
  },
  {
   "cell_type": "code",
   "execution_count": null,
   "metadata": {},
   "outputs": [],
   "source": []
  },
  {
   "cell_type": "code",
   "execution_count": null,
   "metadata": {},
   "outputs": [],
   "source": []
  },
  {
   "cell_type": "markdown",
   "metadata": {},
   "source": [
    "#### In-class Exercise 1"
   ]
  },
  {
   "cell_type": "code",
   "execution_count": 3,
   "metadata": {},
   "outputs": [
    {
     "name": "stdout",
     "output_type": "stream",
     "text": [
      "Leo the Lion\n",
      "Buddy the Dog\n"
     ]
    }
   ],
   "source": [
    "# Create a class Animal that displays the name and species when printed\n",
    "class Animal:\n",
    "    def __init__(self, name, species):\n",
    "        self.name = name.capitalize()\n",
    "        self.species = species.capitalize()\n",
    "    \n",
    "    def __str__(self):\n",
    "        return f\"{self.name} the {self.species}\"\n",
    "\n",
    "leo = Animal('Leo', 'lion')\n",
    "\n",
    "print(leo) # Leo the Lion\n",
    "\n",
    "\n",
    "buddy = Animal('Buddy', 'dog')\n",
    "print(buddy) # Buddy the Dog"
   ]
  },
  {
   "cell_type": "markdown",
   "metadata": {},
   "source": [
    "## Inheritance <br>\n",
    "<p>You can create a child-parent relationship between two classes by using inheritance. What this allows you to do is have overriding methods, but also inherit traits from the parent class. Think of it as an actual parent and child, the child will inherit the parent's genes, as will the classes in OOP</p>"
   ]
  },
  {
   "cell_type": "markdown",
   "metadata": {},
   "source": [
    "##### Syntax for Inheriting from a Parent Class"
   ]
  },
  {
   "cell_type": "code",
   "execution_count": 37,
   "metadata": {},
   "outputs": [
    {
     "name": "stdout",
     "output_type": "stream",
     "text": [
      "length: 10 x width: 20\n",
      "200\n"
     ]
    }
   ],
   "source": [
    "# Syntax: class Child(Parent):\n",
    "\n",
    "class Rectangle:\n",
    "    sides = 4\n",
    "    \n",
    "    def __init__(self, length, width):\n",
    "        self.length = length\n",
    "        self.width = width\n",
    "        \n",
    "    def __str__(self):\n",
    "        return f\"length: {self.length} x width: {self.width}\"\n",
    "    \n",
    "    def area(self):\n",
    "        print('This is the Rectangle Area Method')\n",
    "        return self.length * self.width\n",
    "    \n",
    "class Square(Rectangle):\n",
    "    def area(self):\n",
    "        print('This is the Square Area Method')\n",
    "        return self.length ** 2\n",
    "    \n",
    "my_rectangle = Rectangle(10, 20)\n",
    "print(my_rectangle)\n",
    "print(my_rectangle.area())\n",
    "my_square = Square(10,10)\n",
    "print(my_square)\n",
    "print(my_square.area())"
   ]
  },
  {
   "cell_type": "code",
   "execution_count": null,
   "metadata": {},
   "outputs": [],
   "source": [
    "\n"
   ]
  },
  {
   "cell_type": "markdown",
   "metadata": {},
   "source": [
    "##### The \\__init\\__() Method for a Child Class - super()"
   ]
  },
  {
   "cell_type": "code",
   "execution_count": null,
   "metadata": {},
   "outputs": [],
   "source": []
  },
  {
   "cell_type": "code",
   "execution_count": 40,
   "metadata": {
    "scrolled": true
   },
   "outputs": [
    {
     "name": "stdout",
     "output_type": "stream",
     "text": [
      "This is the Rectangle __init__ method\n",
      "length: 10 x width: 20\n",
      "This is the Rectangle Area Method\n",
      "200\n",
      "This is the Square __init__ method\n",
      "This is the Rectangle __init__ method\n",
      "length: 10 x width: 10\n",
      "This is the Rectangle Area Method\n",
      "100\n"
     ]
    }
   ],
   "source": [
    "# Syntax: class Child(Parent):\n",
    "\n",
    "class Rectangle:\n",
    "    sides = 4\n",
    "    \n",
    "    def __init__(self, length, width):\n",
    "        print('This is the Rectangle __init__ method')\n",
    "        self.length = length\n",
    "        self.width = width\n",
    "        \n",
    "    def __str__(self):\n",
    "        return f\"length: {self.length} x width: {self.width}\"\n",
    "    \n",
    "    def area(self):\n",
    "        print('This is the Rectangle Area Method')\n",
    "        return self.length * self.width\n",
    "    \n",
    "class Square(Rectangle):\n",
    "    \n",
    "    def __init__(self, side):\n",
    "        print('This is the Square __init__ method')\n",
    "        super().__init__(side, side)\n",
    "        self.all_sides_equal = True\n",
    "    \n",
    "my_rectangle = Rectangle(10, 20)\n",
    "print(my_rectangle)\n",
    "print(my_rectangle.area())\n",
    "my_square = Square(10)\n",
    "print(my_square)\n",
    "print(my_square.area())"
   ]
  },
  {
   "cell_type": "code",
   "execution_count": null,
   "metadata": {},
   "outputs": [],
   "source": [
    "my_square.all_sides_equal"
   ]
  },
  {
   "cell_type": "code",
   "execution_count": 41,
   "metadata": {
    "scrolled": true
   },
   "outputs": [
    {
     "name": "stdout",
     "output_type": "stream",
     "text": [
      "This is the Triangle __init__ method\n",
      "This is the Rectangle __init__ method\n",
      "length: 10 x width: 5\n"
     ]
    }
   ],
   "source": [
    "class Triangle(Rectangle):\n",
    "    sides = 3\n",
    "    \n",
    "    def __init__(self, base, height):\n",
    "        print('This is the Triangle __init__ method')\n",
    "        super().__init__(base, height)\n",
    "        \n",
    "    def area(self):\n",
    "        print('This is the Triangle area method')\n",
    "        area = super().area()\n",
    "        return area / 2\n",
    "\n",
    "my_triangle = Triangle(10, 5)\n",
    "print(my_triangle)"
   ]
  },
  {
   "cell_type": "code",
   "execution_count": null,
   "metadata": {},
   "outputs": [],
   "source": [
    "\n"
   ]
  },
  {
   "cell_type": "code",
   "execution_count": null,
   "metadata": {},
   "outputs": [],
   "source": []
  },
  {
   "cell_type": "markdown",
   "metadata": {},
   "source": [
    "#### In-class Exercise 2"
   ]
  },
  {
   "cell_type": "markdown",
   "metadata": {},
   "source": [
    "Create a Car class that has a drive and fill up method, and then create a Ford class that inherits from the car class."
   ]
  },
  {
   "cell_type": "code",
   "execution_count": 6,
   "metadata": {},
   "outputs": [
    {
     "name": "stdout",
     "output_type": "stream",
     "text": [
      "Ford\n",
      "blue Ford Focus is driving.\n",
      "Filling up blue Ford Focus.\n",
      "red Toyota Camry is driving.\n",
      "Filling up red Toyota Camry.\n"
     ]
    }
   ],
   "source": [
    "class Car:\n",
    "    \n",
    "    def __init__(self, color, make, model):\n",
    "        self.color = color\n",
    "        self.model = model\n",
    "        \n",
    "    def __str__(self):\n",
    "        return f\"{self.color} {self.make} {self.model}\"\n",
    "    \n",
    "    def drive(self):\n",
    "        print f\"{self.color} {self.make} {self.model} is driving.\"\n",
    "   \n",
    "    def fill_up(self):\n",
    "        return f\"Filling up {self.color} {self.make} {self.model}.\"\n",
    "\n",
    "class Ford(Car):\n",
    "    def __init__(self, color, model):\n",
    "        super().__init__(color, 'Ford', model)\n",
    "\n",
    "class Toyota(Car):\n",
    "    def__init__(self, color, model):\n",
    "        super().__init__(color, 'Toyota', model)\n",
    "        \n",
    "my_car = Ford('blue', 'Focus')\n",
    "\n",
    "print(my_car.make) # 'Ford'\n",
    "\n",
    "print(my_car.drive()) # 'blue Ford Focus is driving'\n",
    "\n",
    "print(my_car.fill_up()) # 'Filling up blue Ford Focus'\n",
    "\n",
    "my_other_car = Toyota('red', 'Camry')\n",
    "\n",
    "print(my_other_car.drive())\n",
    "print(my_other_car.fill_up())\n"
   ]
  },
  {
   "cell_type": "markdown",
   "metadata": {},
   "source": [
    "## Modules"
   ]
  },
  {
   "cell_type": "markdown",
   "metadata": {},
   "source": [
    "##### Importing Entire Modules"
   ]
  },
  {
   "cell_type": "code",
   "execution_count": null,
   "metadata": {},
   "outputs": [],
   "source": [
    "# import name_of_module\n",
    "\n"
   ]
  },
  {
   "cell_type": "markdown",
   "metadata": {},
   "source": [
    "##### Importing Methods Only"
   ]
  },
  {
   "cell_type": "code",
   "execution_count": null,
   "metadata": {},
   "outputs": [],
   "source": [
    "# from module_name import class, function, constant, etc.\n",
    "\n"
   ]
  },
  {
   "cell_type": "markdown",
   "metadata": {},
   "source": [
    "##### Using the 'as' Keyword"
   ]
  },
  {
   "cell_type": "code",
   "execution_count": null,
   "metadata": {},
   "outputs": [],
   "source": [
    "# import module as new_name\n",
    "# from module import function as f\n",
    "\n"
   ]
  },
  {
   "cell_type": "code",
   "execution_count": null,
   "metadata": {},
   "outputs": [],
   "source": []
  },
  {
   "cell_type": "code",
   "execution_count": null,
   "metadata": {},
   "outputs": [],
   "source": [
    "# Using VS Code\n"
   ]
  },
  {
   "cell_type": "code",
   "execution_count": null,
   "metadata": {},
   "outputs": [],
   "source": []
  },
  {
   "cell_type": "code",
   "execution_count": null,
   "metadata": {},
   "outputs": [],
   "source": []
  },
  {
   "cell_type": "code",
   "execution_count": null,
   "metadata": {},
   "outputs": [],
   "source": []
  },
  {
   "cell_type": "code",
   "execution_count": null,
   "metadata": {},
   "outputs": [],
   "source": []
  }
 ],
 "metadata": {
  "kernelspec": {
   "display_name": "Python 3 (ipykernel)",
   "language": "python",
   "name": "python3"
  },
  "language_info": {
   "codemirror_mode": {
    "name": "ipython",
    "version": 3
   },
   "file_extension": ".py",
   "mimetype": "text/x-python",
   "name": "python",
   "nbconvert_exporter": "python",
   "pygments_lexer": "ipython3",
   "version": "3.9.13"
  }
 },
 "nbformat": 4,
 "nbformat_minor": 2
}
